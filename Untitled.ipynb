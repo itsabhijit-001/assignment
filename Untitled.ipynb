{
 "cells": [
  {
   "cell_type": "markdown",
   "metadata": {},
   "source": [
    "# ZIPPY ASSIGNMENT "
   ]
  },
  {
   "cell_type": "markdown",
   "metadata": {},
   "source": [
    "## Importing required Libraries "
   ]
  },
  {
   "cell_type": "code",
   "execution_count": 1,
   "metadata": {},
   "outputs": [],
   "source": [
    "import pandas as pd\n",
    "import seaborn as sns\n",
    "import matplotlib.pyplot as plt\n",
    "from sklearn.linear_model import LogisticRegression\n",
    "from xgboost import XGBClassifier\n",
    "from sklearn.ensemble import RandomForestClassifier\n",
    "from sklearn.metrics import classification_report\n",
    "from sklearn.model_selection import cross_validate\n",
    "from scipy.stats import zscore\n",
    "from sklearn.preprocessing import MinMaxScaler\n",
    "import warnings\n",
    "warnings.filterwarnings('ignore')"
   ]
  },
  {
   "cell_type": "markdown",
   "metadata": {},
   "source": [
    "## Loading Dataset "
   ]
  },
  {
   "cell_type": "code",
   "execution_count": 2,
   "metadata": {},
   "outputs": [
    {
     "data": {
      "text/html": [
       "<div>\n",
       "<style scoped>\n",
       "    .dataframe tbody tr th:only-of-type {\n",
       "        vertical-align: middle;\n",
       "    }\n",
       "\n",
       "    .dataframe tbody tr th {\n",
       "        vertical-align: top;\n",
       "    }\n",
       "\n",
       "    .dataframe thead th {\n",
       "        text-align: right;\n",
       "    }\n",
       "</style>\n",
       "<table border=\"1\" class=\"dataframe\">\n",
       "  <thead>\n",
       "    <tr style=\"text-align: right;\">\n",
       "      <th></th>\n",
       "      <th>0</th>\n",
       "      <th>1</th>\n",
       "      <th>2</th>\n",
       "      <th>3</th>\n",
       "      <th>4</th>\n",
       "    </tr>\n",
       "  </thead>\n",
       "  <tbody>\n",
       "    <tr>\n",
       "      <th>user_name</th>\n",
       "      <td>carlitos</td>\n",
       "      <td>carlitos</td>\n",
       "      <td>carlitos</td>\n",
       "      <td>carlitos</td>\n",
       "      <td>carlitos</td>\n",
       "    </tr>\n",
       "    <tr>\n",
       "      <th>raw_timestamp_part_1</th>\n",
       "      <td>1323084231</td>\n",
       "      <td>1323084232</td>\n",
       "      <td>1323084232</td>\n",
       "      <td>1323084232</td>\n",
       "      <td>1323084232</td>\n",
       "    </tr>\n",
       "    <tr>\n",
       "      <th>raw_timestamp_part_2</th>\n",
       "      <td>820366</td>\n",
       "      <td>304277</td>\n",
       "      <td>440390</td>\n",
       "      <td>484323</td>\n",
       "      <td>484434</td>\n",
       "    </tr>\n",
       "    <tr>\n",
       "      <th>cvtd_timestamp</th>\n",
       "      <td>05/12/2011 11:23</td>\n",
       "      <td>05/12/2011 11:23</td>\n",
       "      <td>05/12/2011 11:23</td>\n",
       "      <td>05/12/2011 11:23</td>\n",
       "      <td>05/12/2011 11:23</td>\n",
       "    </tr>\n",
       "    <tr>\n",
       "      <th>new_window</th>\n",
       "      <td>no</td>\n",
       "      <td>no</td>\n",
       "      <td>no</td>\n",
       "      <td>no</td>\n",
       "      <td>no</td>\n",
       "    </tr>\n",
       "    <tr>\n",
       "      <th>...</th>\n",
       "      <td>...</td>\n",
       "      <td>...</td>\n",
       "      <td>...</td>\n",
       "      <td>...</td>\n",
       "      <td>...</td>\n",
       "    </tr>\n",
       "    <tr>\n",
       "      <th>accel_forearm_z</th>\n",
       "      <td>-213</td>\n",
       "      <td>-215</td>\n",
       "      <td>-213</td>\n",
       "      <td>-214</td>\n",
       "      <td>-215</td>\n",
       "    </tr>\n",
       "    <tr>\n",
       "      <th>magnet_forearm_x</th>\n",
       "      <td>-18</td>\n",
       "      <td>-9</td>\n",
       "      <td>-9</td>\n",
       "      <td>-16</td>\n",
       "      <td>-22</td>\n",
       "    </tr>\n",
       "    <tr>\n",
       "      <th>magnet_forearm_y</th>\n",
       "      <td>658</td>\n",
       "      <td>660</td>\n",
       "      <td>660</td>\n",
       "      <td>653</td>\n",
       "      <td>656</td>\n",
       "    </tr>\n",
       "    <tr>\n",
       "      <th>magnet_forearm_z</th>\n",
       "      <td>469</td>\n",
       "      <td>478</td>\n",
       "      <td>474</td>\n",
       "      <td>476</td>\n",
       "      <td>473</td>\n",
       "    </tr>\n",
       "    <tr>\n",
       "      <th>classe</th>\n",
       "      <td>A</td>\n",
       "      <td>A</td>\n",
       "      <td>A</td>\n",
       "      <td>A</td>\n",
       "      <td>A</td>\n",
       "    </tr>\n",
       "  </tbody>\n",
       "</table>\n",
       "<p>159 rows × 5 columns</p>\n",
       "</div>"
      ],
      "text/plain": [
       "                                     0                 1                 2  \\\n",
       "user_name                     carlitos          carlitos          carlitos   \n",
       "raw_timestamp_part_1        1323084231        1323084232        1323084232   \n",
       "raw_timestamp_part_2            820366            304277            440390   \n",
       "cvtd_timestamp        05/12/2011 11:23  05/12/2011 11:23  05/12/2011 11:23   \n",
       "new_window                          no                no                no   \n",
       "...                                ...               ...               ...   \n",
       "accel_forearm_z                   -213              -215              -213   \n",
       "magnet_forearm_x                   -18                -9                -9   \n",
       "magnet_forearm_y                   658               660               660   \n",
       "magnet_forearm_z                   469               478               474   \n",
       "classe                               A                 A                 A   \n",
       "\n",
       "                                     3                 4  \n",
       "user_name                     carlitos          carlitos  \n",
       "raw_timestamp_part_1        1323084232        1323084232  \n",
       "raw_timestamp_part_2            484323            484434  \n",
       "cvtd_timestamp        05/12/2011 11:23  05/12/2011 11:23  \n",
       "new_window                          no                no  \n",
       "...                                ...               ...  \n",
       "accel_forearm_z                   -214              -215  \n",
       "magnet_forearm_x                   -16               -22  \n",
       "magnet_forearm_y                   653               656  \n",
       "magnet_forearm_z                   476               473  \n",
       "classe                               A                 A  \n",
       "\n",
       "[159 rows x 5 columns]"
      ]
     },
     "execution_count": 2,
     "metadata": {},
     "output_type": "execute_result"
    }
   ],
   "source": [
    "\n",
    "train_data=pd.read_csv('train.csv')\n",
    "test_data=pd.read_csv('testing.csv')\n",
    "# test_data.columns\n",
    "train_data.head().T\n"
   ]
  },
  {
   "cell_type": "markdown",
   "metadata": {},
   "source": [
    "## Analysing Dataset "
   ]
  },
  {
   "cell_type": "code",
   "execution_count": 3,
   "metadata": {},
   "outputs": [
    {
     "data": {
      "text/html": [
       "<div>\n",
       "<style scoped>\n",
       "    .dataframe tbody tr th:only-of-type {\n",
       "        vertical-align: middle;\n",
       "    }\n",
       "\n",
       "    .dataframe tbody tr th {\n",
       "        vertical-align: top;\n",
       "    }\n",
       "\n",
       "    .dataframe thead th {\n",
       "        text-align: right;\n",
       "    }\n",
       "</style>\n",
       "<table border=\"1\" class=\"dataframe\">\n",
       "  <thead>\n",
       "    <tr style=\"text-align: right;\">\n",
       "      <th></th>\n",
       "      <th>raw_timestamp_part_1</th>\n",
       "      <th>raw_timestamp_part_2</th>\n",
       "      <th>num_window</th>\n",
       "      <th>roll_belt</th>\n",
       "      <th>pitch_belt</th>\n",
       "      <th>yaw_belt</th>\n",
       "      <th>total_accel_belt</th>\n",
       "      <th>max_roll_belt</th>\n",
       "      <th>max_picth_belt</th>\n",
       "      <th>min_roll_belt</th>\n",
       "      <th>...</th>\n",
       "      <th>var_yaw_forearm</th>\n",
       "      <th>gyros_forearm_x</th>\n",
       "      <th>gyros_forearm_y</th>\n",
       "      <th>gyros_forearm_z</th>\n",
       "      <th>accel_forearm_x</th>\n",
       "      <th>accel_forearm_y</th>\n",
       "      <th>accel_forearm_z</th>\n",
       "      <th>magnet_forearm_x</th>\n",
       "      <th>magnet_forearm_y</th>\n",
       "      <th>magnet_forearm_z</th>\n",
       "    </tr>\n",
       "  </thead>\n",
       "  <tbody>\n",
       "    <tr>\n",
       "      <th>count</th>\n",
       "      <td>1.362100e+04</td>\n",
       "      <td>13621.000000</td>\n",
       "      <td>13621.000000</td>\n",
       "      <td>13621.000000</td>\n",
       "      <td>13621.000000</td>\n",
       "      <td>13621.000000</td>\n",
       "      <td>13621.000000</td>\n",
       "      <td>287.000000</td>\n",
       "      <td>287.000000</td>\n",
       "      <td>287.000000</td>\n",
       "      <td>...</td>\n",
       "      <td>287.000000</td>\n",
       "      <td>13621.000000</td>\n",
       "      <td>13621.000000</td>\n",
       "      <td>13621.000000</td>\n",
       "      <td>13621.000000</td>\n",
       "      <td>13621.000000</td>\n",
       "      <td>13621.000000</td>\n",
       "      <td>13621.000000</td>\n",
       "      <td>13621.000000</td>\n",
       "      <td>13621.000000</td>\n",
       "    </tr>\n",
       "    <tr>\n",
       "      <th>mean</th>\n",
       "      <td>1.322823e+09</td>\n",
       "      <td>501390.961897</td>\n",
       "      <td>431.678731</td>\n",
       "      <td>65.028830</td>\n",
       "      <td>-0.558039</td>\n",
       "      <td>-8.459880</td>\n",
       "      <td>11.373908</td>\n",
       "      <td>-6.499652</td>\n",
       "      <td>12.864111</td>\n",
       "      <td>-9.793728</td>\n",
       "      <td>...</td>\n",
       "      <td>4121.847658</td>\n",
       "      <td>0.172004</td>\n",
       "      <td>0.087077</td>\n",
       "      <td>0.160592</td>\n",
       "      <td>-61.364804</td>\n",
       "      <td>164.496806</td>\n",
       "      <td>-53.529990</td>\n",
       "      <td>-305.688863</td>\n",
       "      <td>387.091321</td>\n",
       "      <td>395.700970</td>\n",
       "    </tr>\n",
       "    <tr>\n",
       "      <th>std</th>\n",
       "      <td>2.006015e+05</td>\n",
       "      <td>288600.374895</td>\n",
       "      <td>245.927117</td>\n",
       "      <td>62.723881</td>\n",
       "      <td>22.736375</td>\n",
       "      <td>97.331264</td>\n",
       "      <td>7.692821</td>\n",
       "      <td>94.864792</td>\n",
       "      <td>8.123113</td>\n",
       "      <td>93.956662</td>\n",
       "      <td>...</td>\n",
       "      <td>7071.315214</td>\n",
       "      <td>0.657362</td>\n",
       "      <td>3.407977</td>\n",
       "      <td>2.068254</td>\n",
       "      <td>182.785011</td>\n",
       "      <td>199.203594</td>\n",
       "      <td>137.068291</td>\n",
       "      <td>347.357704</td>\n",
       "      <td>504.218445</td>\n",
       "      <td>368.478147</td>\n",
       "    </tr>\n",
       "    <tr>\n",
       "      <th>min</th>\n",
       "      <td>1.322490e+09</td>\n",
       "      <td>307.000000</td>\n",
       "      <td>1.000000</td>\n",
       "      <td>-28.300000</td>\n",
       "      <td>-55.800000</td>\n",
       "      <td>-180.000000</td>\n",
       "      <td>0.000000</td>\n",
       "      <td>-94.300000</td>\n",
       "      <td>3.000000</td>\n",
       "      <td>-180.000000</td>\n",
       "      <td>...</td>\n",
       "      <td>0.000000</td>\n",
       "      <td>-22.000000</td>\n",
       "      <td>-7.020000</td>\n",
       "      <td>-8.090000</td>\n",
       "      <td>-498.000000</td>\n",
       "      <td>-632.000000</td>\n",
       "      <td>-446.000000</td>\n",
       "      <td>-1280.000000</td>\n",
       "      <td>-896.000000</td>\n",
       "      <td>-973.000000</td>\n",
       "    </tr>\n",
       "    <tr>\n",
       "      <th>25%</th>\n",
       "      <td>1.322673e+09</td>\n",
       "      <td>252344.000000</td>\n",
       "      <td>222.000000</td>\n",
       "      <td>1.090000</td>\n",
       "      <td>1.230000</td>\n",
       "      <td>-88.300000</td>\n",
       "      <td>3.000000</td>\n",
       "      <td>-88.000000</td>\n",
       "      <td>5.000000</td>\n",
       "      <td>-88.350000</td>\n",
       "      <td>...</td>\n",
       "      <td>0.255230</td>\n",
       "      <td>-0.210000</td>\n",
       "      <td>-1.430000</td>\n",
       "      <td>-0.160000</td>\n",
       "      <td>-181.000000</td>\n",
       "      <td>59.000000</td>\n",
       "      <td>-182.000000</td>\n",
       "      <td>-613.000000</td>\n",
       "      <td>22.000000</td>\n",
       "      <td>206.000000</td>\n",
       "    </tr>\n",
       "    <tr>\n",
       "      <th>50%</th>\n",
       "      <td>1.322833e+09</td>\n",
       "      <td>500311.000000</td>\n",
       "      <td>424.000000</td>\n",
       "      <td>114.000000</td>\n",
       "      <td>5.200000</td>\n",
       "      <td>-11.900000</td>\n",
       "      <td>17.000000</td>\n",
       "      <td>-5.500000</td>\n",
       "      <td>18.000000</td>\n",
       "      <td>-8.800000</td>\n",
       "      <td>...</td>\n",
       "      <td>466.352730</td>\n",
       "      <td>0.050000</td>\n",
       "      <td>0.030000</td>\n",
       "      <td>0.080000</td>\n",
       "      <td>-56.000000</td>\n",
       "      <td>198.000000</td>\n",
       "      <td>-34.000000</td>\n",
       "      <td>-363.000000</td>\n",
       "      <td>593.000000</td>\n",
       "      <td>512.000000</td>\n",
       "    </tr>\n",
       "    <tr>\n",
       "      <th>75%</th>\n",
       "      <td>1.323084e+09</td>\n",
       "      <td>752292.000000</td>\n",
       "      <td>646.000000</td>\n",
       "      <td>123.000000</td>\n",
       "      <td>14.300000</td>\n",
       "      <td>20.000000</td>\n",
       "      <td>18.000000</td>\n",
       "      <td>22.150000</td>\n",
       "      <td>19.000000</td>\n",
       "      <td>15.700000</td>\n",
       "      <td>...</td>\n",
       "      <td>4438.665380</td>\n",
       "      <td>0.610000</td>\n",
       "      <td>1.590000</td>\n",
       "      <td>0.490000</td>\n",
       "      <td>78.000000</td>\n",
       "      <td>313.000000</td>\n",
       "      <td>26.000000</td>\n",
       "      <td>-58.000000</td>\n",
       "      <td>738.000000</td>\n",
       "      <td>653.000000</td>\n",
       "    </tr>\n",
       "    <tr>\n",
       "      <th>max</th>\n",
       "      <td>1.323095e+09</td>\n",
       "      <td>998801.000000</td>\n",
       "      <td>864.000000</td>\n",
       "      <td>162.000000</td>\n",
       "      <td>60.300000</td>\n",
       "      <td>179.000000</td>\n",
       "      <td>28.000000</td>\n",
       "      <td>180.000000</td>\n",
       "      <td>30.000000</td>\n",
       "      <td>173.000000</td>\n",
       "      <td>...</td>\n",
       "      <td>39009.333330</td>\n",
       "      <td>3.970000</td>\n",
       "      <td>311.000000</td>\n",
       "      <td>231.000000</td>\n",
       "      <td>389.000000</td>\n",
       "      <td>923.000000</td>\n",
       "      <td>291.000000</td>\n",
       "      <td>672.000000</td>\n",
       "      <td>1450.000000</td>\n",
       "      <td>1070.000000</td>\n",
       "    </tr>\n",
       "  </tbody>\n",
       "</table>\n",
       "<p>8 rows × 122 columns</p>\n",
       "</div>"
      ],
      "text/plain": [
       "       raw_timestamp_part_1  raw_timestamp_part_2    num_window     roll_belt  \\\n",
       "count          1.362100e+04          13621.000000  13621.000000  13621.000000   \n",
       "mean           1.322823e+09         501390.961897    431.678731     65.028830   \n",
       "std            2.006015e+05         288600.374895    245.927117     62.723881   \n",
       "min            1.322490e+09            307.000000      1.000000    -28.300000   \n",
       "25%            1.322673e+09         252344.000000    222.000000      1.090000   \n",
       "50%            1.322833e+09         500311.000000    424.000000    114.000000   \n",
       "75%            1.323084e+09         752292.000000    646.000000    123.000000   \n",
       "max            1.323095e+09         998801.000000    864.000000    162.000000   \n",
       "\n",
       "         pitch_belt      yaw_belt  total_accel_belt  max_roll_belt  \\\n",
       "count  13621.000000  13621.000000      13621.000000     287.000000   \n",
       "mean      -0.558039     -8.459880         11.373908      -6.499652   \n",
       "std       22.736375     97.331264          7.692821      94.864792   \n",
       "min      -55.800000   -180.000000          0.000000     -94.300000   \n",
       "25%        1.230000    -88.300000          3.000000     -88.000000   \n",
       "50%        5.200000    -11.900000         17.000000      -5.500000   \n",
       "75%       14.300000     20.000000         18.000000      22.150000   \n",
       "max       60.300000    179.000000         28.000000     180.000000   \n",
       "\n",
       "       max_picth_belt  min_roll_belt  ...  var_yaw_forearm  gyros_forearm_x  \\\n",
       "count      287.000000     287.000000  ...       287.000000     13621.000000   \n",
       "mean        12.864111      -9.793728  ...      4121.847658         0.172004   \n",
       "std          8.123113      93.956662  ...      7071.315214         0.657362   \n",
       "min          3.000000    -180.000000  ...         0.000000       -22.000000   \n",
       "25%          5.000000     -88.350000  ...         0.255230        -0.210000   \n",
       "50%         18.000000      -8.800000  ...       466.352730         0.050000   \n",
       "75%         19.000000      15.700000  ...      4438.665380         0.610000   \n",
       "max         30.000000     173.000000  ...     39009.333330         3.970000   \n",
       "\n",
       "       gyros_forearm_y  gyros_forearm_z  accel_forearm_x  accel_forearm_y  \\\n",
       "count     13621.000000     13621.000000     13621.000000     13621.000000   \n",
       "mean          0.087077         0.160592       -61.364804       164.496806   \n",
       "std           3.407977         2.068254       182.785011       199.203594   \n",
       "min          -7.020000        -8.090000      -498.000000      -632.000000   \n",
       "25%          -1.430000        -0.160000      -181.000000        59.000000   \n",
       "50%           0.030000         0.080000       -56.000000       198.000000   \n",
       "75%           1.590000         0.490000        78.000000       313.000000   \n",
       "max         311.000000       231.000000       389.000000       923.000000   \n",
       "\n",
       "       accel_forearm_z  magnet_forearm_x  magnet_forearm_y  magnet_forearm_z  \n",
       "count     13621.000000      13621.000000      13621.000000      13621.000000  \n",
       "mean        -53.529990       -305.688863        387.091321        395.700970  \n",
       "std         137.068291        347.357704        504.218445        368.478147  \n",
       "min        -446.000000      -1280.000000       -896.000000       -973.000000  \n",
       "25%        -182.000000       -613.000000         22.000000        206.000000  \n",
       "50%         -34.000000       -363.000000        593.000000        512.000000  \n",
       "75%          26.000000        -58.000000        738.000000        653.000000  \n",
       "max         291.000000        672.000000       1450.000000       1070.000000  \n",
       "\n",
       "[8 rows x 122 columns]"
      ]
     },
     "execution_count": 3,
     "metadata": {},
     "output_type": "execute_result"
    }
   ],
   "source": [
    "train_data.describe()"
   ]
  },
  {
   "cell_type": "code",
   "execution_count": 4,
   "metadata": {},
   "outputs": [
    {
     "data": {
      "text/html": [
       "<div>\n",
       "<style scoped>\n",
       "    .dataframe tbody tr th:only-of-type {\n",
       "        vertical-align: middle;\n",
       "    }\n",
       "\n",
       "    .dataframe tbody tr th {\n",
       "        vertical-align: top;\n",
       "    }\n",
       "\n",
       "    .dataframe thead th {\n",
       "        text-align: right;\n",
       "    }\n",
       "</style>\n",
       "<table border=\"1\" class=\"dataframe\">\n",
       "  <thead>\n",
       "    <tr style=\"text-align: right;\">\n",
       "      <th></th>\n",
       "      <th>user_name</th>\n",
       "      <th>cvtd_timestamp</th>\n",
       "      <th>new_window</th>\n",
       "      <th>kurtosis_roll_belt</th>\n",
       "      <th>kurtosis_picth_belt</th>\n",
       "      <th>kurtosis_yaw_belt</th>\n",
       "      <th>skewness_roll_belt</th>\n",
       "      <th>skewness_roll_belt.1</th>\n",
       "      <th>skewness_yaw_belt</th>\n",
       "      <th>max_yaw_belt</th>\n",
       "      <th>...</th>\n",
       "      <th>kurtosis_roll_forearm</th>\n",
       "      <th>kurtosis_picth_forearm</th>\n",
       "      <th>kurtosis_yaw_forearm</th>\n",
       "      <th>skewness_roll_forearm</th>\n",
       "      <th>skewness_pitch_forearm</th>\n",
       "      <th>skewness_yaw_forearm</th>\n",
       "      <th>max_yaw_forearm</th>\n",
       "      <th>min_yaw_forearm</th>\n",
       "      <th>amplitude_yaw_forearm</th>\n",
       "      <th>classe</th>\n",
       "    </tr>\n",
       "  </thead>\n",
       "  <tbody>\n",
       "    <tr>\n",
       "      <th>count</th>\n",
       "      <td>13621</td>\n",
       "      <td>13621</td>\n",
       "      <td>13621</td>\n",
       "      <td>287</td>\n",
       "      <td>287</td>\n",
       "      <td>287</td>\n",
       "      <td>287</td>\n",
       "      <td>287</td>\n",
       "      <td>287</td>\n",
       "      <td>287</td>\n",
       "      <td>...</td>\n",
       "      <td>287</td>\n",
       "      <td>287</td>\n",
       "      <td>287</td>\n",
       "      <td>287</td>\n",
       "      <td>287</td>\n",
       "      <td>287</td>\n",
       "      <td>287</td>\n",
       "      <td>287</td>\n",
       "      <td>287</td>\n",
       "      <td>13621</td>\n",
       "    </tr>\n",
       "    <tr>\n",
       "      <th>unique</th>\n",
       "      <td>6</td>\n",
       "      <td>20</td>\n",
       "      <td>2</td>\n",
       "      <td>281</td>\n",
       "      <td>228</td>\n",
       "      <td>1</td>\n",
       "      <td>280</td>\n",
       "      <td>240</td>\n",
       "      <td>1</td>\n",
       "      <td>74</td>\n",
       "      <td>...</td>\n",
       "      <td>227</td>\n",
       "      <td>227</td>\n",
       "      <td>1</td>\n",
       "      <td>228</td>\n",
       "      <td>224</td>\n",
       "      <td>1</td>\n",
       "      <td>41</td>\n",
       "      <td>41</td>\n",
       "      <td>2</td>\n",
       "      <td>5</td>\n",
       "    </tr>\n",
       "    <tr>\n",
       "      <th>top</th>\n",
       "      <td>adelmo</td>\n",
       "      <td>05/12/2011 11:24</td>\n",
       "      <td>no</td>\n",
       "      <td>#DIV/0!</td>\n",
       "      <td>#DIV/0!</td>\n",
       "      <td>#DIV/0!</td>\n",
       "      <td>#DIV/0!</td>\n",
       "      <td>#DIV/0!</td>\n",
       "      <td>#DIV/0!</td>\n",
       "      <td>-1.4</td>\n",
       "      <td>...</td>\n",
       "      <td>#DIV/0!</td>\n",
       "      <td>#DIV/0!</td>\n",
       "      <td>#DIV/0!</td>\n",
       "      <td>#DIV/0!</td>\n",
       "      <td>#DIV/0!</td>\n",
       "      <td>#DIV/0!</td>\n",
       "      <td>#DIV/0!</td>\n",
       "      <td>#DIV/0!</td>\n",
       "      <td>0.00</td>\n",
       "      <td>A</td>\n",
       "    </tr>\n",
       "    <tr>\n",
       "      <th>freq</th>\n",
       "      <td>2892</td>\n",
       "      <td>1082</td>\n",
       "      <td>13334</td>\n",
       "      <td>6</td>\n",
       "      <td>24</td>\n",
       "      <td>287</td>\n",
       "      <td>5</td>\n",
       "      <td>24</td>\n",
       "      <td>287</td>\n",
       "      <td>21</td>\n",
       "      <td>...</td>\n",
       "      <td>60</td>\n",
       "      <td>61</td>\n",
       "      <td>287</td>\n",
       "      <td>59</td>\n",
       "      <td>61</td>\n",
       "      <td>287</td>\n",
       "      <td>60</td>\n",
       "      <td>60</td>\n",
       "      <td>227</td>\n",
       "      <td>4379</td>\n",
       "    </tr>\n",
       "  </tbody>\n",
       "</table>\n",
       "<p>4 rows × 37 columns</p>\n",
       "</div>"
      ],
      "text/plain": [
       "       user_name    cvtd_timestamp new_window kurtosis_roll_belt  \\\n",
       "count      13621             13621      13621                287   \n",
       "unique         6                20          2                281   \n",
       "top       adelmo  05/12/2011 11:24         no            #DIV/0!   \n",
       "freq        2892              1082      13334                  6   \n",
       "\n",
       "       kurtosis_picth_belt kurtosis_yaw_belt skewness_roll_belt  \\\n",
       "count                  287               287                287   \n",
       "unique                 228                 1                280   \n",
       "top                #DIV/0!           #DIV/0!            #DIV/0!   \n",
       "freq                    24               287                  5   \n",
       "\n",
       "       skewness_roll_belt.1 skewness_yaw_belt max_yaw_belt  ...  \\\n",
       "count                   287               287          287  ...   \n",
       "unique                  240                 1           74  ...   \n",
       "top                 #DIV/0!           #DIV/0!         -1.4  ...   \n",
       "freq                     24               287           21  ...   \n",
       "\n",
       "       kurtosis_roll_forearm kurtosis_picth_forearm kurtosis_yaw_forearm  \\\n",
       "count                    287                    287                  287   \n",
       "unique                   227                    227                    1   \n",
       "top                  #DIV/0!                #DIV/0!              #DIV/0!   \n",
       "freq                      60                     61                  287   \n",
       "\n",
       "       skewness_roll_forearm skewness_pitch_forearm skewness_yaw_forearm  \\\n",
       "count                    287                    287                  287   \n",
       "unique                   228                    224                    1   \n",
       "top                  #DIV/0!                #DIV/0!              #DIV/0!   \n",
       "freq                      59                     61                  287   \n",
       "\n",
       "       max_yaw_forearm min_yaw_forearm amplitude_yaw_forearm classe  \n",
       "count              287             287                   287  13621  \n",
       "unique              41              41                     2      5  \n",
       "top            #DIV/0!         #DIV/0!                  0.00      A  \n",
       "freq                60              60                   227   4379  \n",
       "\n",
       "[4 rows x 37 columns]"
      ]
     },
     "execution_count": 4,
     "metadata": {},
     "output_type": "execute_result"
    }
   ],
   "source": [
    "train_data.describe(include='O')"
   ]
  },
  {
   "cell_type": "code",
   "execution_count": 5,
   "metadata": {},
   "outputs": [
    {
     "data": {
      "image/png": "[encoded data removed]",
      "text/plain": [
       "<Figure size 720x720 with 1 Axes>"
      ]
     },
     "metadata": {},
     "output_type": "display_data"
    }
   ],
   "source": [
    "plt.figure(figsize=(10,10))\n",
    "plt.pie(train_data.classe.value_counts(),\n",
    "#         explode=[0.1,0.1,0.1,0.1,0.01],\n",
    "        labels=['A','B','E','C','D'],\n",
    "        startangle=90,\n",
    "#         colors=None,\n",
    "        autopct='%0.2f%%')\n",
    "plt.title('CLASSES REPRESENTATION',fontdict={'size':24,'fontweight':'bold'})\n",
    "plt.show()"
   ]
  },
  {
   "cell_type": "markdown",
   "metadata": {},
   "source": [
    "### CONVERTING CATEGORICAL VALUES TO NUMERICAL TYPE "
   ]
  },
  {
   "cell_type": "code",
   "execution_count": 6,
   "metadata": {},
   "outputs": [],
   "source": [
    "train_data.classe=pd.Categorical(train_data.classe,categories=['A','B','C','D','E'],ordered=True).codes"
   ]
  },
  {
   "cell_type": "code",
   "execution_count": 7,
   "metadata": {},
   "outputs": [],
   "source": [
    "# train_data.classe"
   ]
  },
  {
   "cell_type": "code",
   "execution_count": 8,
   "metadata": {},
   "outputs": [],
   "source": [
    "relations=train_data.corr().sort_values(by='classe')['classe']"
   ]
  },
  {
   "cell_type": "markdown",
   "metadata": {},
   "source": [
    "## DEALING WITH MISSING VALUES "
   ]
  },
  {
   "cell_type": "code",
   "execution_count": 9,
   "metadata": {},
   "outputs": [],
   "source": [
    "def missing_data_percent(x,thresh):\n",
    "    lst=[]\n",
    "    for col in x.columns:\n",
    "        p=round((sum(x[col].isnull())/len(x))*100,2)\n",
    "        if p>thresh:\n",
    "            lst.append(col)\n",
    "    return lst"
   ]
  },
  {
   "cell_type": "markdown",
   "metadata": {},
   "source": [
    "### REMOVING THE COLUMNS WHERE MISSING ELEMENT PERCENTAGE IS MORE THAN 90% "
   ]
  },
  {
   "cell_type": "code",
   "execution_count": 10,
   "metadata": {},
   "outputs": [],
   "source": [
    "missing_cols=missing_data_percent(train_data,90)"
   ]
  },
  {
   "cell_type": "code",
   "execution_count": 11,
   "metadata": {},
   "outputs": [
    {
     "name": "stdout",
     "output_type": "stream",
     "text": [
      "Total number of missing columns is  100\n"
     ]
    }
   ],
   "source": [
    "print('Total number of missing columns is ',len(missing_cols))"
   ]
  },
  {
   "cell_type": "code",
   "execution_count": 12,
   "metadata": {},
   "outputs": [],
   "source": [
    "train_data.drop(missing_cols,axis=1,inplace=True)"
   ]
  },
  {
   "cell_type": "markdown",
   "metadata": {},
   "source": [
    "### Checking if there are more missing columns "
   ]
  },
  {
   "cell_type": "code",
   "execution_count": 13,
   "metadata": {},
   "outputs": [],
   "source": [
    "def missing_columns(x):\n",
    "    lst=[]\n",
    "    for col in x.columns:\n",
    "        p=round((sum(x[col].isnull())/len(x))*100,2)\n",
    "        if p>0:\n",
    "            lst.append(col)\n",
    "    return lst"
   ]
  },
  {
   "cell_type": "code",
   "execution_count": 14,
   "metadata": {},
   "outputs": [
    {
     "data": {
      "text/plain": [
       "[]"
      ]
     },
     "execution_count": 14,
     "metadata": {},
     "output_type": "execute_result"
    }
   ],
   "source": [
    "missing_vals=missing_columns(train_data)\n",
    "missing_vals"
   ]
  },
  {
   "cell_type": "markdown",
   "metadata": {},
   "source": [
    "No missing values"
   ]
  },
  {
   "cell_type": "markdown",
   "metadata": {},
   "source": [
    "#### CHECKING DATA TYPE OF REMAINING COLUMNS "
   ]
  },
  {
   "cell_type": "code",
   "execution_count": 15,
   "metadata": {},
   "outputs": [],
   "source": [
    "def numerical_dtype_of_data(x):\n",
    "    lst=[]\n",
    "    for col in x.columns:\n",
    "        if x[col].dtype!='object':\n",
    "            lst.append(col)\n",
    "    return lst"
   ]
  },
  {
   "cell_type": "code",
   "execution_count": 16,
   "metadata": {},
   "outputs": [],
   "source": [
    "numerical_col=numerical_dtype_of_data(train_data)\n",
    "# numerical_col"
   ]
  },
  {
   "cell_type": "code",
   "execution_count": 17,
   "metadata": {},
   "outputs": [],
   "source": [
    "def dtype_of_data(x):\n",
    "    for col in x.columns:\n",
    "        print(col,x[col].dtype)"
   ]
  },
  {
   "cell_type": "code",
   "execution_count": 18,
   "metadata": {},
   "outputs": [
    {
     "name": "stdout",
     "output_type": "stream",
     "text": [
      "user_name object\n",
      "raw_timestamp_part_1 int64\n",
      "raw_timestamp_part_2 int64\n",
      "cvtd_timestamp object\n",
      "new_window object\n",
      "num_window int64\n",
      "roll_belt float64\n",
      "pitch_belt float64\n",
      "yaw_belt float64\n",
      "total_accel_belt int64\n",
      "gyros_belt_x float64\n",
      "gyros_belt_y float64\n",
      "gyros_belt_z float64\n",
      "accel_belt_x int64\n",
      "accel_belt_y int64\n",
      "accel_belt_z int64\n",
      "magnet_belt_x int64\n",
      "magnet_belt_y int64\n",
      "magnet_belt_z int64\n",
      "roll_arm float64\n",
      "pitch_arm float64\n",
      "yaw_arm float64\n",
      "total_accel_arm int64\n",
      "gyros_arm_x float64\n",
      "gyros_arm_y float64\n",
      "gyros_arm_z float64\n",
      "accel_arm_x int64\n",
      "accel_arm_y int64\n",
      "accel_arm_z int64\n",
      "magnet_arm_x int64\n",
      "magnet_arm_y int64\n",
      "magnet_arm_z int64\n",
      "roll_dumbbell float64\n",
      "pitch_dumbbell float64\n",
      "yaw_dumbbell float64\n",
      "total_accel_dumbbell int64\n",
      "gyros_dumbbell_x float64\n",
      "gyros_dumbbell_y float64\n",
      "gyros_dumbbell_z float64\n",
      "accel_dumbbell_x int64\n",
      "accel_dumbbell_y int64\n",
      "accel_dumbbell_z int64\n",
      "magnet_dumbbell_x int64\n",
      "magnet_dumbbell_y int64\n",
      "magnet_dumbbell_z float64\n",
      "roll_forearm float64\n",
      "pitch_forearm float64\n",
      "yaw_forearm float64\n",
      "total_accel_forearm int64\n",
      "gyros_forearm_x float64\n",
      "gyros_forearm_y float64\n",
      "gyros_forearm_z float64\n",
      "accel_forearm_x int64\n",
      "accel_forearm_y int64\n",
      "accel_forearm_z int64\n",
      "magnet_forearm_x int64\n",
      "magnet_forearm_y float64\n",
      "magnet_forearm_z float64\n",
      "classe int8\n"
     ]
    }
   ],
   "source": [
    "dtype_of_data(train_data)"
   ]
  },
  {
   "cell_type": "code",
   "execution_count": null,
   "metadata": {},
   "outputs": [],
   "source": []
  },
  {
   "cell_type": "markdown",
   "metadata": {},
   "source": [
    "## ANALYSING THE  OBJECT DATA TYPES COLUMNS"
   ]
  },
  {
   "cell_type": "markdown",
   "metadata": {},
   "source": [
    "### USER  NAME "
   ]
  },
  {
   "cell_type": "code",
   "execution_count": 19,
   "metadata": {},
   "outputs": [
    {
     "data": {
      "image/png": "[encoded data removed]",
      "text/plain": [
       "<Figure size 720x720 with 1 Axes>"
      ]
     },
     "metadata": {},
     "output_type": "display_data"
    }
   ],
   "source": [
    "plt.figure(figsize=(10,10))\n",
    "plt.pie(train_data.user_name.value_counts(),\n",
    "#         explode=[0.1,0.1,0.1,0.1,0.01],\n",
    "        labels=['Adelmo','Charles' ,'Jeremy','Carlitos','Eurico','Pedro'],\n",
    "        startangle=90,\n",
    "#         colors=None,\n",
    "        autopct='%0.2f%%')\n",
    "plt.title('USER NAME',fontdict={'size':24,'fontweight':'bold'})\n",
    "plt.show()"
   ]
  },
  {
   "cell_type": "markdown",
   "metadata": {},
   "source": [
    "### CONVERTING CATEGORICAL VALUES TO NUMERICAL TYPE "
   ]
  },
  {
   "cell_type": "code",
   "execution_count": 20,
   "metadata": {},
   "outputs": [],
   "source": [
    "train_data.user_name=pd.Categorical(train_data.user_name,\n",
    "                                     categories=['adelmo','charles' ,'jeremy','carlitos','eurico','pedro'],\n",
    "                                     ordered=True).codes"
   ]
  },
  {
   "cell_type": "code",
   "execution_count": 21,
   "metadata": {},
   "outputs": [],
   "source": [
    "train_data.drop(['cvtd_timestamp'],axis=1,inplace=True)\n",
    "# XDSE\n",
    "# train_data.new_window"
   ]
  },
  {
   "cell_type": "markdown",
   "metadata": {},
   "source": [
    "## NEW WINDOW "
   ]
  },
  {
   "cell_type": "code",
   "execution_count": 22,
   "metadata": {},
   "outputs": [],
   "source": [
    "# train_data.new_window.value_counts()"
   ]
  },
  {
   "cell_type": "code",
   "execution_count": 23,
   "metadata": {},
   "outputs": [
    {
     "data": {
      "image/png": "[encoded data removed]",
      "text/plain": [
       "<Figure size 720x720 with 1 Axes>"
      ]
     },
     "metadata": {},
     "output_type": "display_data"
    }
   ],
   "source": [
    "plt.figure(figsize=(10,10))\n",
    "plt.pie(train_data.new_window.value_counts(),\n",
    "#         explode=[0.1,0.1,0.1,0.1,0.01],\n",
    "        labels=['NO','YES'],\n",
    "        startangle=90,\n",
    "#         colors=None,\n",
    "        autopct='%0.2f%%')\n",
    "plt.title('NEW WINDOW',fontdict={'size':24,'fontweight':'bold'})\n",
    "plt.show()"
   ]
  },
  {
   "cell_type": "markdown",
   "metadata": {},
   "source": [
    "### CONVERTING CATEGORICAL VALUES TO NUMERICAL TYPE "
   ]
  },
  {
   "cell_type": "code",
   "execution_count": 24,
   "metadata": {},
   "outputs": [],
   "source": [
    "train_data.new_window=pd.Categorical(train_data.new_window,categories=['no','yes'],ordered=True).codes"
   ]
  },
  {
   "cell_type": "markdown",
   "metadata": {},
   "source": [
    "## LOOKING FOR OUTLIERS AND REMOVING IT"
   ]
  },
  {
   "cell_type": "code",
   "execution_count": 25,
   "metadata": {},
   "outputs": [],
   "source": [
    "def remove_outliers(x,thresh):\n",
    "#     lst=[]\n",
    "    for col in x.columns:\n",
    "        x.drop(train_data[abs(zscore(train_data[col]))>thresh].index,inplace=True)\n",
    "#             lst.append(col)\n",
    "    return x\n",
    "        "
   ]
  },
  {
   "cell_type": "code",
   "execution_count": 26,
   "metadata": {},
   "outputs": [
    {
     "data": {
      "text/plain": [
       "13621"
      ]
     },
     "execution_count": 26,
     "metadata": {},
     "output_type": "execute_result"
    }
   ],
   "source": [
    "len(train_data)"
   ]
  },
  {
   "cell_type": "code",
   "execution_count": 27,
   "metadata": {},
   "outputs": [
    {
     "data": {
      "text/plain": [
       "10446"
      ]
     },
     "execution_count": 27,
     "metadata": {},
     "output_type": "execute_result"
    }
   ],
   "source": [
    "train_data=remove_outliers(train_data,3)\n",
    "len(train_data)"
   ]
  },
  {
   "cell_type": "markdown",
   "metadata": {},
   "source": [
    "## CHECKING FOR CORRELATIONS BETWEEN OUTPUT AND INPUT CLASSES "
   ]
  },
  {
   "cell_type": "code",
   "execution_count": 28,
   "metadata": {},
   "outputs": [],
   "source": [
    "sort_df=pd.DataFrame(train_data.corr().sort_values(by='classe')['classe'])"
   ]
  },
  {
   "cell_type": "code",
   "execution_count": 29,
   "metadata": {},
   "outputs": [
    {
     "data": {
      "text/plain": [
       "[]"
      ]
     },
     "execution_count": 29,
     "metadata": {},
     "output_type": "execute_result"
    },
    {
     "data": {
      "image/png": "[encoded data removed]",
      "text/plain": [
       "<Figure size 1440x1440 with 2 Axes>"
      ]
     },
     "metadata": {
      "needs_background": "light"
     },
     "output_type": "display_data"
    }
   ],
   "source": [
    "import seaborn as sns\n",
    "import matplotlib.pyplot as plt\n",
    "plt.figure(figsize=(20,20))\n",
    "sns.heatmap(sort_df,annot=True,vmin=-0.4,vmax=1, fmt=\"g\", cmap='viridis')\n",
    "plt.plot()"
   ]
  },
  {
   "cell_type": "markdown",
   "metadata": {},
   "source": [
    "Spliting the dataset into train data (70% of total data) and test data (30% of total data)."
   ]
  },
  {
   "cell_type": "code",
   "execution_count": 30,
   "metadata": {},
   "outputs": [],
   "source": [
    "from sklearn.model_selection import train_test_split\n",
    "train_info,test_info=train_test_split(train_data,test_size=0.3,random_state=42)\n",
    "train_x,train_y=train_info.iloc[:,:-1],train_info.iloc[:,-1]\n",
    "\n",
    "test_x,test_y=test_info.iloc[:,:-1],test_info.iloc[:,-1]"
   ]
  },
  {
   "cell_type": "markdown",
   "metadata": {},
   "source": [
    "## NORMALIZING THE INPUT PARAMETERS "
   ]
  },
  {
   "cell_type": "code",
   "execution_count": 31,
   "metadata": {},
   "outputs": [],
   "source": [
    "scaler=MinMaxScaler()\n",
    "train_x=scaler.fit_transform(train_x)\n",
    "test_x=scaler.transform(test_x)"
   ]
  },
  {
   "cell_type": "markdown",
   "metadata": {},
   "source": [
    "## MODEL SELECTION "
   ]
  },
  {
   "cell_type": "markdown",
   "metadata": {},
   "source": [
    "### Decision Tree Classifier"
   ]
  },
  {
   "cell_type": "code",
   "execution_count": 32,
   "metadata": {},
   "outputs": [
    {
     "data": {
      "text/plain": [
       "DecisionTreeClassifier(criterion='entropy', max_depth=6)"
      ]
     },
     "execution_count": 32,
     "metadata": {},
     "output_type": "execute_result"
    }
   ],
   "source": [
    "from sklearn.tree import DecisionTreeClassifier\n",
    "model1=DecisionTreeClassifier(criterion='entropy',\n",
    "                                splitter='best',\n",
    "                                max_depth=6,\n",
    "                                min_samples_split=2,\n",
    "                                min_samples_leaf=1,\n",
    "                                min_weight_fraction_leaf=0.0,\n",
    "                                max_features=None,\n",
    "                                random_state=None,\n",
    "                                max_leaf_nodes=None,\n",
    "                                min_impurity_decrease=0.0,\n",
    "                                min_impurity_split=None,\n",
    "                                class_weight=None,\n",
    "                                ccp_alpha=0.0)\n",
    "model1.fit(train_x,train_y)"
   ]
  },
  {
   "cell_type": "markdown",
   "metadata": {},
   "source": [
    "Classification report of validation data"
   ]
  },
  {
   "cell_type": "code",
   "execution_count": 33,
   "metadata": {},
   "outputs": [
    {
     "name": "stdout",
     "output_type": "stream",
     "text": [
      "              precision    recall  f1-score   support\n",
      "\n",
      "           0       0.81      0.90      0.85      1124\n",
      "           1       0.67      0.39      0.50       565\n",
      "           2       0.49      0.79      0.60       570\n",
      "           3       0.74      0.39      0.51       497\n",
      "           4       0.65      0.66      0.65       378\n",
      "\n",
      "    accuracy                           0.68      3134\n",
      "   macro avg       0.67      0.62      0.62      3134\n",
      "weighted avg       0.70      0.68      0.66      3134\n",
      "\n"
     ]
    }
   ],
   "source": [
    "print(classification_report(test_y,model1.predict(test_x)))"
   ]
  },
  {
   "cell_type": "markdown",
   "metadata": {},
   "source": [
    "Classification report of training data"
   ]
  },
  {
   "cell_type": "code",
   "execution_count": 34,
   "metadata": {},
   "outputs": [
    {
     "name": "stdout",
     "output_type": "stream",
     "text": [
      "              precision    recall  f1-score   support\n",
      "\n",
      "           0       0.80      0.90      0.85      2566\n",
      "           1       0.70      0.41      0.52      1257\n",
      "           2       0.53      0.81      0.64      1417\n",
      "           3       0.71      0.39      0.50      1153\n",
      "           4       0.70      0.69      0.70       919\n",
      "\n",
      "    accuracy                           0.69      7312\n",
      "   macro avg       0.69      0.64      0.64      7312\n",
      "weighted avg       0.71      0.69      0.68      7312\n",
      "\n"
     ]
    }
   ],
   "source": [
    "\n",
    "print(classification_report(train_y,model1.predict(train_x)))"
   ]
  },
  {
   "cell_type": "code",
   "execution_count": 74,
   "metadata": {},
   "outputs": [
    {
     "name": "stdout",
     "output_type": "stream",
     "text": [
      "mean cross validation accuracy is  71.45747405449329\n"
     ]
    }
   ],
   "source": [
    "\n",
    "cv_1 = cross_validate(model1, train_x, train_y, cv=5)\n",
    "print('mean cross validation accuracy is ',cv_1['test_score'].mean()*100)"
   ]
  },
  {
   "cell_type": "markdown",
   "metadata": {},
   "source": [
    "Since cross validation accuracy for Decision Tree is not good (i.e 71%) so lets try for boosting techniques"
   ]
  },
  {
   "cell_type": "markdown",
   "metadata": {},
   "source": [
    "### Random Forest Classifier"
   ]
  },
  {
   "cell_type": "code",
   "execution_count": 36,
   "metadata": {},
   "outputs": [
    {
     "data": {
      "text/plain": [
       "RandomForestClassifier(max_depth=11, n_estimators=200, random_state=124)"
      ]
     },
     "execution_count": 36,
     "metadata": {},
     "output_type": "execute_result"
    }
   ],
   "source": [
    "model2=RandomForestClassifier(n_estimators=200,\n",
    "                    criterion='gini',\n",
    "                    max_depth=11,\n",
    "                    min_samples_split=2,\n",
    "                    min_samples_leaf=1,\n",
    "                    min_weight_fraction_leaf=0.0,\n",
    "                    max_features='auto',\n",
    "                    max_leaf_nodes=None,\n",
    "                    min_impurity_decrease=0.0,\n",
    "                    min_impurity_split=None,\n",
    "                    bootstrap=True,\n",
    "                    oob_score=False,\n",
    "                    n_jobs=None,\n",
    "                    random_state=124,\n",
    "                    verbose=0,\n",
    "                    warm_start=False,\n",
    "                    class_weight=None,\n",
    "                    ccp_alpha=0.0,\n",
    "                    max_samples=None)\n",
    "model2.fit(train_x,train_y)"
   ]
  },
  {
   "cell_type": "markdown",
   "metadata": {},
   "source": [
    "Classification report of validation data"
   ]
  },
  {
   "cell_type": "code",
   "execution_count": 37,
   "metadata": {},
   "outputs": [
    {
     "name": "stdout",
     "output_type": "stream",
     "text": [
      "              precision    recall  f1-score   support\n",
      "\n",
      "           0       1.00      1.00      1.00      1124\n",
      "           1       1.00      0.98      0.99       565\n",
      "           2       0.97      1.00      0.99       570\n",
      "           3       0.99      0.98      0.99       497\n",
      "           4       1.00      0.98      0.99       378\n",
      "\n",
      "    accuracy                           0.99      3134\n",
      "   macro avg       0.99      0.99      0.99      3134\n",
      "weighted avg       0.99      0.99      0.99      3134\n",
      "\n"
     ]
    }
   ],
   "source": [
    "\n",
    "print(classification_report(test_y,model2.predict(test_x)))"
   ]
  },
  {
   "cell_type": "markdown",
   "metadata": {},
   "source": [
    "Classification report of training data"
   ]
  },
  {
   "cell_type": "code",
   "execution_count": 38,
   "metadata": {},
   "outputs": [
    {
     "name": "stdout",
     "output_type": "stream",
     "text": [
      "              precision    recall  f1-score   support\n",
      "\n",
      "           0       1.00      1.00      1.00      2566\n",
      "           1       1.00      1.00      1.00      1257\n",
      "           2       0.99      1.00      1.00      1417\n",
      "           3       1.00      0.99      0.99      1153\n",
      "           4       1.00      0.99      1.00       919\n",
      "\n",
      "    accuracy                           1.00      7312\n",
      "   macro avg       1.00      1.00      1.00      7312\n",
      "weighted avg       1.00      1.00      1.00      7312\n",
      "\n"
     ]
    }
   ],
   "source": [
    "\n",
    "print(classification_report(train_y,model2.predict(train_x)))"
   ]
  },
  {
   "cell_type": "code",
   "execution_count": 73,
   "metadata": {},
   "outputs": [
    {
     "name": "stdout",
     "output_type": "stream",
     "text": [
      "mean cross validation accuracy is  98.75544787849489\n"
     ]
    }
   ],
   "source": [
    "\n",
    "cv_2 = cross_validate(model2, train_x, train_y, cv=5)\n",
    "print('mean cross validation accuracy is ',cv_2['test_score'].mean()*100)"
   ]
  },
  {
   "cell_type": "markdown",
   "metadata": {},
   "source": [
    "Random Forest worked pretty well with accuracy of 98.75 %"
   ]
  },
  {
   "cell_type": "markdown",
   "metadata": {},
   "source": [
    "### Gradient Boosting "
   ]
  },
  {
   "cell_type": "code",
   "execution_count": 68,
   "metadata": {},
   "outputs": [
    {
     "data": {
      "text/plain": [
       "GradientBoostingClassifier(random_state=126)"
      ]
     },
     "execution_count": 68,
     "metadata": {},
     "output_type": "execute_result"
    }
   ],
   "source": [
    "from sklearn.ensemble import GradientBoostingClassifier\n",
    "model3=GradientBoostingClassifier(loss='deviance',\n",
    "                                    learning_rate=0.1,\n",
    "                                    n_estimators=100,\n",
    "                                    subsample=1.0,\n",
    "                                    criterion='friedman_mse',\n",
    "                                    min_samples_split=2,\n",
    "                                    min_samples_leaf=1,\n",
    "                                    min_weight_fraction_leaf=0.0,\n",
    "                                    max_depth=3,\n",
    "                                    min_impurity_decrease=0.0,\n",
    "                                    random_state=126)\n",
    "model3.fit(train_x,train_y)"
   ]
  },
  {
   "cell_type": "markdown",
   "metadata": {},
   "source": [
    "Classification report of validation data"
   ]
  },
  {
   "cell_type": "code",
   "execution_count": 69,
   "metadata": {},
   "outputs": [
    {
     "name": "stdout",
     "output_type": "stream",
     "text": [
      "              precision    recall  f1-score   support\n",
      "\n",
      "           0       1.00      1.00      1.00      1124\n",
      "           1       1.00      1.00      1.00       565\n",
      "           2       1.00      1.00      1.00       570\n",
      "           3       0.99      1.00      0.99       497\n",
      "           4       0.99      0.99      0.99       378\n",
      "\n",
      "    accuracy                           1.00      3134\n",
      "   macro avg       1.00      1.00      1.00      3134\n",
      "weighted avg       1.00      1.00      1.00      3134\n",
      "\n"
     ]
    }
   ],
   "source": [
    "\n",
    "print(classification_report(test_y,model3.predict(test_x)))"
   ]
  },
  {
   "cell_type": "markdown",
   "metadata": {},
   "source": [
    "Classification report of training data"
   ]
  },
  {
   "cell_type": "code",
   "execution_count": 70,
   "metadata": {},
   "outputs": [
    {
     "name": "stdout",
     "output_type": "stream",
     "text": [
      "              precision    recall  f1-score   support\n",
      "\n",
      "           0       1.00      1.00      1.00      2566\n",
      "           1       1.00      1.00      1.00      1257\n",
      "           2       1.00      1.00      1.00      1417\n",
      "           3       1.00      1.00      1.00      1153\n",
      "           4       1.00      1.00      1.00       919\n",
      "\n",
      "    accuracy                           1.00      7312\n",
      "   macro avg       1.00      1.00      1.00      7312\n",
      "weighted avg       1.00      1.00      1.00      7312\n",
      "\n"
     ]
    }
   ],
   "source": [
    "\n",
    "print(classification_report(train_y,model3.predict(train_x)))"
   ]
  },
  {
   "cell_type": "code",
   "execution_count": 75,
   "metadata": {},
   "outputs": [
    {
     "name": "stdout",
     "output_type": "stream",
     "text": [
      "mean cross validation accuracy is  99.43920864217502\n"
     ]
    }
   ],
   "source": [
    "\n",
    "cv_3 = cross_validate(model3, train_x, train_y, cv=5)\n",
    "print('mean cross validation accuracy is ',cv_3['test_score'].mean()*100)"
   ]
  },
  {
   "cell_type": "markdown",
   "metadata": {},
   "source": [
    "### XGBoost Classifier"
   ]
  },
  {
   "cell_type": "code",
   "execution_count": 44,
   "metadata": {},
   "outputs": [
    {
     "name": "stdout",
     "output_type": "stream",
     "text": [
      "[19:57:38] WARNING: C:/Users/Administrator/workspace/xgboost-win64_release_1.3.0/src/learner.cc:1061: Starting in XGBoost 1.3.0, the default evaluation metric used with the objective 'multi:softprob' was changed from 'merror' to 'mlogloss'. Explicitly set eval_metric if you'd like to restore the old behavior.\n"
     ]
    },
    {
     "data": {
      "text/plain": [
       "XGBClassifier(base_score=0.5, booster='gbtree', colsample_bylevel=1,\n",
       "              colsample_bynode=1, colsample_bytree=1, gamma=0.001, gpu_id=-1,\n",
       "              importance_type='gain', interaction_constraints='',\n",
       "              learning_rate=0.500000012, max_delta_step=0, max_depth=4,\n",
       "              min_child_weight=1, missing=nan, monotone_constraints='()',\n",
       "              n_estimators=200, n_jobs=8, num_parallel_tree=1,\n",
       "              objective='multi:softprob', random_state=123, reg_alpha=0,\n",
       "              reg_lambda=1, scale_pos_weight=None, subsample=1,\n",
       "              tree_method='exact', validate_parameters=1, verbosity=None)"
      ]
     },
     "execution_count": 44,
     "metadata": {},
     "output_type": "execute_result"
    }
   ],
   "source": [
    "from xgboost import XGBClassifier\n",
    "model4=XGBClassifier(base_score=0.5, \n",
    "                     booster='gbtree', \n",
    "                     colsample_bylevel=1,\n",
    "                     colsample_bynode=1, \n",
    "                     colsample_bytree=1, \n",
    "                     gamma=0.001, \n",
    "                     learning_rate=0.500000012, \n",
    "                     max_depth=4,\n",
    "                     n_estimators=200, \n",
    "                     random_state=123)\n",
    "model4.fit(train_x,train_y)\n"
   ]
  },
  {
   "cell_type": "markdown",
   "metadata": {},
   "source": [
    "Classification report of validation data"
   ]
  },
  {
   "cell_type": "code",
   "execution_count": 45,
   "metadata": {},
   "outputs": [
    {
     "name": "stdout",
     "output_type": "stream",
     "text": [
      "              precision    recall  f1-score   support\n",
      "\n",
      "           0       1.00      1.00      1.00      1124\n",
      "           1       1.00      1.00      1.00       565\n",
      "           2       1.00      1.00      1.00       570\n",
      "           3       1.00      1.00      1.00       497\n",
      "           4       0.99      1.00      1.00       378\n",
      "\n",
      "    accuracy                           1.00      3134\n",
      "   macro avg       1.00      1.00      1.00      3134\n",
      "weighted avg       1.00      1.00      1.00      3134\n",
      "\n"
     ]
    }
   ],
   "source": [
    "\n",
    "print(classification_report(test_y,model4.predict(test_x)))"
   ]
  },
  {
   "cell_type": "markdown",
   "metadata": {},
   "source": [
    "Classification report of training data"
   ]
  },
  {
   "cell_type": "code",
   "execution_count": 46,
   "metadata": {},
   "outputs": [
    {
     "name": "stdout",
     "output_type": "stream",
     "text": [
      "              precision    recall  f1-score   support\n",
      "\n",
      "           0       1.00      1.00      1.00      2566\n",
      "           1       1.00      1.00      1.00      1257\n",
      "           2       1.00      1.00      1.00      1417\n",
      "           3       1.00      1.00      1.00      1153\n",
      "           4       1.00      1.00      1.00       919\n",
      "\n",
      "    accuracy                           1.00      7312\n",
      "   macro avg       1.00      1.00      1.00      7312\n",
      "weighted avg       1.00      1.00      1.00      7312\n",
      "\n"
     ]
    }
   ],
   "source": [
    "\n",
    "print(classification_report(train_y,model4.predict(train_x)))"
   ]
  },
  {
   "cell_type": "code",
   "execution_count": 76,
   "metadata": {},
   "outputs": [
    {
     "name": "stdout",
     "output_type": "stream",
     "text": [
      "[20:20:12] WARNING: C:/Users/Administrator/workspace/xgboost-win64_release_1.3.0/src/learner.cc:1061: Starting in XGBoost 1.3.0, the default evaluation metric used with the objective 'multi:softprob' was changed from 'merror' to 'mlogloss'. Explicitly set eval_metric if you'd like to restore the old behavior.\n",
      "[20:20:14] WARNING: C:/Users/Administrator/workspace/xgboost-win64_release_1.3.0/src/learner.cc:1061: Starting in XGBoost 1.3.0, the default evaluation metric used with the objective 'multi:softprob' was changed from 'merror' to 'mlogloss'. Explicitly set eval_metric if you'd like to restore the old behavior.\n",
      "[20:20:17] WARNING: C:/Users/Administrator/workspace/xgboost-win64_release_1.3.0/src/learner.cc:1061: Starting in XGBoost 1.3.0, the default evaluation metric used with the objective 'multi:softprob' was changed from 'merror' to 'mlogloss'. Explicitly set eval_metric if you'd like to restore the old behavior.\n",
      "[20:20:19] WARNING: C:/Users/Administrator/workspace/xgboost-win64_release_1.3.0/src/learner.cc:1061: Starting in XGBoost 1.3.0, the default evaluation metric used with the objective 'multi:softprob' was changed from 'merror' to 'mlogloss'. Explicitly set eval_metric if you'd like to restore the old behavior.\n",
      "[20:20:21] WARNING: C:/Users/Administrator/workspace/xgboost-win64_release_1.3.0/src/learner.cc:1061: Starting in XGBoost 1.3.0, the default evaluation metric used with the objective 'multi:softprob' was changed from 'merror' to 'mlogloss'. Explicitly set eval_metric if you'd like to restore the old behavior.\n",
      "mean cross validation accuracy is  99.65807754057448\n"
     ]
    }
   ],
   "source": [
    "cv_4 = cross_validate(model4, train_x, train_y, cv=5)\n",
    "print('mean cross validation accuracy is ',cv_4['test_score'].mean()*100)"
   ]
  },
  {
   "cell_type": "markdown",
   "metadata": {},
   "source": [
    "### Since it is quite obious that the accuracy of XGBoost is higher than other XGBoost Classifier would be good choice with accuracy of about 99.65%"
   ]
  },
  {
   "cell_type": "markdown",
   "metadata": {},
   "source": [
    "# TESTING ON THE MODEL"
   ]
  },
  {
   "cell_type": "code",
   "execution_count": 48,
   "metadata": {},
   "outputs": [
    {
     "data": {
      "text/html": [
       "<div>\n",
       "<style scoped>\n",
       "    .dataframe tbody tr th:only-of-type {\n",
       "        vertical-align: middle;\n",
       "    }\n",
       "\n",
       "    .dataframe tbody tr th {\n",
       "        vertical-align: top;\n",
       "    }\n",
       "\n",
       "    .dataframe thead th {\n",
       "        text-align: right;\n",
       "    }\n",
       "</style>\n",
       "<table border=\"1\" class=\"dataframe\">\n",
       "  <thead>\n",
       "    <tr style=\"text-align: right;\">\n",
       "      <th></th>\n",
       "      <th>Unnamed: 0</th>\n",
       "      <th>user_name</th>\n",
       "      <th>raw_timestamp_part_1</th>\n",
       "      <th>raw_timestamp_part_2</th>\n",
       "      <th>cvtd_timestamp</th>\n",
       "      <th>new_window</th>\n",
       "      <th>num_window</th>\n",
       "      <th>roll_belt</th>\n",
       "      <th>pitch_belt</th>\n",
       "      <th>yaw_belt</th>\n",
       "      <th>...</th>\n",
       "      <th>gyros_forearm_x</th>\n",
       "      <th>gyros_forearm_y</th>\n",
       "      <th>gyros_forearm_z</th>\n",
       "      <th>accel_forearm_x</th>\n",
       "      <th>accel_forearm_y</th>\n",
       "      <th>accel_forearm_z</th>\n",
       "      <th>magnet_forearm_x</th>\n",
       "      <th>magnet_forearm_y</th>\n",
       "      <th>magnet_forearm_z</th>\n",
       "      <th>problem_id</th>\n",
       "    </tr>\n",
       "  </thead>\n",
       "  <tbody>\n",
       "    <tr>\n",
       "      <th>0</th>\n",
       "      <td>1</td>\n",
       "      <td>pedro</td>\n",
       "      <td>1323095002</td>\n",
       "      <td>868349</td>\n",
       "      <td>05/12/2011 14:23</td>\n",
       "      <td>no</td>\n",
       "      <td>74</td>\n",
       "      <td>123.00</td>\n",
       "      <td>27.00</td>\n",
       "      <td>-4.75</td>\n",
       "      <td>...</td>\n",
       "      <td>0.74</td>\n",
       "      <td>-3.34</td>\n",
       "      <td>-0.59</td>\n",
       "      <td>-110</td>\n",
       "      <td>267</td>\n",
       "      <td>-149</td>\n",
       "      <td>-714</td>\n",
       "      <td>419</td>\n",
       "      <td>617</td>\n",
       "      <td>1</td>\n",
       "    </tr>\n",
       "    <tr>\n",
       "      <th>1</th>\n",
       "      <td>2</td>\n",
       "      <td>jeremy</td>\n",
       "      <td>1322673067</td>\n",
       "      <td>778725</td>\n",
       "      <td>30/11/2011 17:11</td>\n",
       "      <td>no</td>\n",
       "      <td>431</td>\n",
       "      <td>1.02</td>\n",
       "      <td>4.87</td>\n",
       "      <td>-88.90</td>\n",
       "      <td>...</td>\n",
       "      <td>1.12</td>\n",
       "      <td>-2.78</td>\n",
       "      <td>-0.18</td>\n",
       "      <td>212</td>\n",
       "      <td>297</td>\n",
       "      <td>-118</td>\n",
       "      <td>-237</td>\n",
       "      <td>791</td>\n",
       "      <td>873</td>\n",
       "      <td>2</td>\n",
       "    </tr>\n",
       "    <tr>\n",
       "      <th>2</th>\n",
       "      <td>3</td>\n",
       "      <td>jeremy</td>\n",
       "      <td>1322673075</td>\n",
       "      <td>342967</td>\n",
       "      <td>30/11/2011 17:11</td>\n",
       "      <td>no</td>\n",
       "      <td>439</td>\n",
       "      <td>0.87</td>\n",
       "      <td>1.82</td>\n",
       "      <td>-88.50</td>\n",
       "      <td>...</td>\n",
       "      <td>0.18</td>\n",
       "      <td>-0.79</td>\n",
       "      <td>0.28</td>\n",
       "      <td>154</td>\n",
       "      <td>271</td>\n",
       "      <td>-129</td>\n",
       "      <td>-51</td>\n",
       "      <td>698</td>\n",
       "      <td>783</td>\n",
       "      <td>3</td>\n",
       "    </tr>\n",
       "    <tr>\n",
       "      <th>3</th>\n",
       "      <td>4</td>\n",
       "      <td>adelmo</td>\n",
       "      <td>1322832789</td>\n",
       "      <td>560311</td>\n",
       "      <td>02/12/2011 13:33</td>\n",
       "      <td>no</td>\n",
       "      <td>194</td>\n",
       "      <td>125.00</td>\n",
       "      <td>-41.60</td>\n",
       "      <td>162.00</td>\n",
       "      <td>...</td>\n",
       "      <td>1.38</td>\n",
       "      <td>0.69</td>\n",
       "      <td>1.80</td>\n",
       "      <td>-92</td>\n",
       "      <td>406</td>\n",
       "      <td>-39</td>\n",
       "      <td>-233</td>\n",
       "      <td>783</td>\n",
       "      <td>521</td>\n",
       "      <td>4</td>\n",
       "    </tr>\n",
       "    <tr>\n",
       "      <th>4</th>\n",
       "      <td>5</td>\n",
       "      <td>eurico</td>\n",
       "      <td>1322489635</td>\n",
       "      <td>814776</td>\n",
       "      <td>28/11/2011 14:13</td>\n",
       "      <td>no</td>\n",
       "      <td>235</td>\n",
       "      <td>1.35</td>\n",
       "      <td>3.33</td>\n",
       "      <td>-88.60</td>\n",
       "      <td>...</td>\n",
       "      <td>-0.75</td>\n",
       "      <td>3.10</td>\n",
       "      <td>0.80</td>\n",
       "      <td>131</td>\n",
       "      <td>-93</td>\n",
       "      <td>172</td>\n",
       "      <td>375</td>\n",
       "      <td>-787</td>\n",
       "      <td>91</td>\n",
       "      <td>5</td>\n",
       "    </tr>\n",
       "  </tbody>\n",
       "</table>\n",
       "<p>5 rows × 160 columns</p>\n",
       "</div>"
      ],
      "text/plain": [
       "   Unnamed: 0 user_name  raw_timestamp_part_1  raw_timestamp_part_2  \\\n",
       "0           1     pedro            1323095002                868349   \n",
       "1           2    jeremy            1322673067                778725   \n",
       "2           3    jeremy            1322673075                342967   \n",
       "3           4    adelmo            1322832789                560311   \n",
       "4           5    eurico            1322489635                814776   \n",
       "\n",
       "     cvtd_timestamp new_window  num_window  roll_belt  pitch_belt  yaw_belt  \\\n",
       "0  05/12/2011 14:23         no          74     123.00       27.00     -4.75   \n",
       "1  30/11/2011 17:11         no         431       1.02        4.87    -88.90   \n",
       "2  30/11/2011 17:11         no         439       0.87        1.82    -88.50   \n",
       "3  02/12/2011 13:33         no         194     125.00      -41.60    162.00   \n",
       "4  28/11/2011 14:13         no         235       1.35        3.33    -88.60   \n",
       "\n",
       "   ...  gyros_forearm_x  gyros_forearm_y  gyros_forearm_z  accel_forearm_x  \\\n",
       "0  ...             0.74            -3.34            -0.59             -110   \n",
       "1  ...             1.12            -2.78            -0.18              212   \n",
       "2  ...             0.18            -0.79             0.28              154   \n",
       "3  ...             1.38             0.69             1.80              -92   \n",
       "4  ...            -0.75             3.10             0.80              131   \n",
       "\n",
       "   accel_forearm_y  accel_forearm_z  magnet_forearm_x  magnet_forearm_y  \\\n",
       "0              267             -149              -714               419   \n",
       "1              297             -118              -237               791   \n",
       "2              271             -129               -51               698   \n",
       "3              406              -39              -233               783   \n",
       "4              -93              172               375              -787   \n",
       "\n",
       "   magnet_forearm_z  problem_id  \n",
       "0               617           1  \n",
       "1               873           2  \n",
       "2               783           3  \n",
       "3               521           4  \n",
       "4                91           5  \n",
       "\n",
       "[5 rows x 160 columns]"
      ]
     },
     "execution_count": 48,
     "metadata": {},
     "output_type": "execute_result"
    }
   ],
   "source": [
    "test_data.head()"
   ]
  },
  {
   "cell_type": "code",
   "execution_count": 49,
   "metadata": {},
   "outputs": [],
   "source": [
    "test_data.drop(missing_cols,axis=1,inplace=True)\n",
    "test_data.drop(['Unnamed: 0'],axis=1,inplace=True)"
   ]
  },
  {
   "cell_type": "code",
   "execution_count": 50,
   "metadata": {},
   "outputs": [],
   "source": [
    "test_data.drop(['cvtd_timestamp'],axis=1,inplace=True)"
   ]
  },
  {
   "cell_type": "code",
   "execution_count": 51,
   "metadata": {},
   "outputs": [
    {
     "data": {
      "text/plain": [
       "(10446, 58)"
      ]
     },
     "execution_count": 51,
     "metadata": {},
     "output_type": "execute_result"
    }
   ],
   "source": [
    "train_data.shape"
   ]
  },
  {
   "cell_type": "code",
   "execution_count": 52,
   "metadata": {},
   "outputs": [],
   "source": [
    "test_data=test_data.iloc[:,:-1]"
   ]
  },
  {
   "cell_type": "code",
   "execution_count": 53,
   "metadata": {},
   "outputs": [],
   "source": [
    "test_data.user_name=pd.Categorical(test_data.user_name,\n",
    "                                     categories=['adelmo','charles' ,'jeremy','carlitos','eurico','pedro'],\n",
    "                                     ordered=True).codes\n",
    "test_data.new_window=pd.Categorical(test_data.new_window,categories=['no','yes'],ordered=True).codes\n",
    "# train_data.classe=pd.Categorical(train_data.classe,categories=['A','B','C','D','E'],ordered=True).codes"
   ]
  },
  {
   "cell_type": "code",
   "execution_count": 54,
   "metadata": {},
   "outputs": [],
   "source": [
    "test_data=scaler.transform(test_data)"
   ]
  },
  {
   "cell_type": "code",
   "execution_count": 56,
   "metadata": {},
   "outputs": [
    {
     "data": {
      "text/plain": [
       "array([1, 0, 1, 0, 0, 4, 3, 1, 0, 0, 1, 2, 1, 0, 4, 4, 0, 1, 1, 1],\n",
       "      dtype=int8)"
      ]
     },
     "execution_count": 56,
     "metadata": {},
     "output_type": "execute_result"
    }
   ],
   "source": [
    "pred_val=model4.predict(test_data)\n",
    "pred_val"
   ]
  },
  {
   "cell_type": "code",
   "execution_count": 61,
   "metadata": {},
   "outputs": [],
   "source": [
    "dicts={0:'A',\n",
    "      1:'B',\n",
    "      2:'C',\n",
    "      3:'D',\n",
    "      4:'E'}\n",
    "prediction=[]\n",
    "for i in range(len(pred_val)):\n",
    "    p=pred_val[i]\n",
    "    prediction.append(dicts[p])\n",
    "# prediction\n",
    "    "
   ]
  },
  {
   "cell_type": "code",
   "execution_count": 64,
   "metadata": {},
   "outputs": [],
   "source": [
    "p_df=pd.DataFrame(prediction,columns=['Predicted Output'])\n",
    "p_df.to_csv('output classes.csv',index=False)"
   ]
  },
  {
   "cell_type": "code",
   "execution_count": 66,
   "metadata": {},
   "outputs": [
    {
     "data": {
      "text/html": [
       "<div>\n",
       "<style scoped>\n",
       "    .dataframe tbody tr th:only-of-type {\n",
       "        vertical-align: middle;\n",
       "    }\n",
       "\n",
       "    .dataframe tbody tr th {\n",
       "        vertical-align: top;\n",
       "    }\n",
       "\n",
       "    .dataframe thead th {\n",
       "        text-align: right;\n",
       "    }\n",
       "</style>\n",
       "<table border=\"1\" class=\"dataframe\">\n",
       "  <thead>\n",
       "    <tr style=\"text-align: right;\">\n",
       "      <th></th>\n",
       "      <th>Unnamed: 0</th>\n",
       "      <th>user_name</th>\n",
       "      <th>raw_timestamp_part_1</th>\n",
       "      <th>raw_timestamp_part_2</th>\n",
       "      <th>cvtd_timestamp</th>\n",
       "      <th>new_window</th>\n",
       "      <th>num_window</th>\n",
       "      <th>roll_belt</th>\n",
       "      <th>pitch_belt</th>\n",
       "      <th>yaw_belt</th>\n",
       "      <th>...</th>\n",
       "      <th>gyros_forearm_y</th>\n",
       "      <th>gyros_forearm_z</th>\n",
       "      <th>accel_forearm_x</th>\n",
       "      <th>accel_forearm_y</th>\n",
       "      <th>accel_forearm_z</th>\n",
       "      <th>magnet_forearm_x</th>\n",
       "      <th>magnet_forearm_y</th>\n",
       "      <th>magnet_forearm_z</th>\n",
       "      <th>problem_id</th>\n",
       "      <th>Predicted Output</th>\n",
       "    </tr>\n",
       "  </thead>\n",
       "  <tbody>\n",
       "    <tr>\n",
       "      <th>0</th>\n",
       "      <td>1</td>\n",
       "      <td>pedro</td>\n",
       "      <td>1323095002</td>\n",
       "      <td>868349</td>\n",
       "      <td>05/12/2011 14:23</td>\n",
       "      <td>no</td>\n",
       "      <td>74</td>\n",
       "      <td>123.00</td>\n",
       "      <td>27.00</td>\n",
       "      <td>-4.75</td>\n",
       "      <td>...</td>\n",
       "      <td>-3.34</td>\n",
       "      <td>-0.59</td>\n",
       "      <td>-110</td>\n",
       "      <td>267</td>\n",
       "      <td>-149</td>\n",
       "      <td>-714</td>\n",
       "      <td>419</td>\n",
       "      <td>617</td>\n",
       "      <td>1</td>\n",
       "      <td>B</td>\n",
       "    </tr>\n",
       "    <tr>\n",
       "      <th>1</th>\n",
       "      <td>2</td>\n",
       "      <td>jeremy</td>\n",
       "      <td>1322673067</td>\n",
       "      <td>778725</td>\n",
       "      <td>30/11/2011 17:11</td>\n",
       "      <td>no</td>\n",
       "      <td>431</td>\n",
       "      <td>1.02</td>\n",
       "      <td>4.87</td>\n",
       "      <td>-88.90</td>\n",
       "      <td>...</td>\n",
       "      <td>-2.78</td>\n",
       "      <td>-0.18</td>\n",
       "      <td>212</td>\n",
       "      <td>297</td>\n",
       "      <td>-118</td>\n",
       "      <td>-237</td>\n",
       "      <td>791</td>\n",
       "      <td>873</td>\n",
       "      <td>2</td>\n",
       "      <td>A</td>\n",
       "    </tr>\n",
       "    <tr>\n",
       "      <th>2</th>\n",
       "      <td>3</td>\n",
       "      <td>jeremy</td>\n",
       "      <td>1322673075</td>\n",
       "      <td>342967</td>\n",
       "      <td>30/11/2011 17:11</td>\n",
       "      <td>no</td>\n",
       "      <td>439</td>\n",
       "      <td>0.87</td>\n",
       "      <td>1.82</td>\n",
       "      <td>-88.50</td>\n",
       "      <td>...</td>\n",
       "      <td>-0.79</td>\n",
       "      <td>0.28</td>\n",
       "      <td>154</td>\n",
       "      <td>271</td>\n",
       "      <td>-129</td>\n",
       "      <td>-51</td>\n",
       "      <td>698</td>\n",
       "      <td>783</td>\n",
       "      <td>3</td>\n",
       "      <td>B</td>\n",
       "    </tr>\n",
       "    <tr>\n",
       "      <th>3</th>\n",
       "      <td>4</td>\n",
       "      <td>adelmo</td>\n",
       "      <td>1322832789</td>\n",
       "      <td>560311</td>\n",
       "      <td>02/12/2011 13:33</td>\n",
       "      <td>no</td>\n",
       "      <td>194</td>\n",
       "      <td>125.00</td>\n",
       "      <td>-41.60</td>\n",
       "      <td>162.00</td>\n",
       "      <td>...</td>\n",
       "      <td>0.69</td>\n",
       "      <td>1.80</td>\n",
       "      <td>-92</td>\n",
       "      <td>406</td>\n",
       "      <td>-39</td>\n",
       "      <td>-233</td>\n",
       "      <td>783</td>\n",
       "      <td>521</td>\n",
       "      <td>4</td>\n",
       "      <td>A</td>\n",
       "    </tr>\n",
       "    <tr>\n",
       "      <th>4</th>\n",
       "      <td>5</td>\n",
       "      <td>eurico</td>\n",
       "      <td>1322489635</td>\n",
       "      <td>814776</td>\n",
       "      <td>28/11/2011 14:13</td>\n",
       "      <td>no</td>\n",
       "      <td>235</td>\n",
       "      <td>1.35</td>\n",
       "      <td>3.33</td>\n",
       "      <td>-88.60</td>\n",
       "      <td>...</td>\n",
       "      <td>3.10</td>\n",
       "      <td>0.80</td>\n",
       "      <td>131</td>\n",
       "      <td>-93</td>\n",
       "      <td>172</td>\n",
       "      <td>375</td>\n",
       "      <td>-787</td>\n",
       "      <td>91</td>\n",
       "      <td>5</td>\n",
       "      <td>A</td>\n",
       "    </tr>\n",
       "    <tr>\n",
       "      <th>5</th>\n",
       "      <td>6</td>\n",
       "      <td>jeremy</td>\n",
       "      <td>1322673149</td>\n",
       "      <td>510661</td>\n",
       "      <td>30/11/2011 17:12</td>\n",
       "      <td>no</td>\n",
       "      <td>504</td>\n",
       "      <td>-5.92</td>\n",
       "      <td>1.59</td>\n",
       "      <td>-87.70</td>\n",
       "      <td>...</td>\n",
       "      <td>4.26</td>\n",
       "      <td>1.35</td>\n",
       "      <td>230</td>\n",
       "      <td>322</td>\n",
       "      <td>-144</td>\n",
       "      <td>-300</td>\n",
       "      <td>800</td>\n",
       "      <td>884</td>\n",
       "      <td>6</td>\n",
       "      <td>E</td>\n",
       "    </tr>\n",
       "    <tr>\n",
       "      <th>6</th>\n",
       "      <td>7</td>\n",
       "      <td>jeremy</td>\n",
       "      <td>1322673128</td>\n",
       "      <td>766645</td>\n",
       "      <td>30/11/2011 17:12</td>\n",
       "      <td>no</td>\n",
       "      <td>485</td>\n",
       "      <td>1.20</td>\n",
       "      <td>4.44</td>\n",
       "      <td>-87.30</td>\n",
       "      <td>...</td>\n",
       "      <td>1.80</td>\n",
       "      <td>0.75</td>\n",
       "      <td>-192</td>\n",
       "      <td>170</td>\n",
       "      <td>-175</td>\n",
       "      <td>-678</td>\n",
       "      <td>284</td>\n",
       "      <td>585</td>\n",
       "      <td>7</td>\n",
       "      <td>D</td>\n",
       "    </tr>\n",
       "    <tr>\n",
       "      <th>7</th>\n",
       "      <td>8</td>\n",
       "      <td>jeremy</td>\n",
       "      <td>1322673076</td>\n",
       "      <td>54671</td>\n",
       "      <td>30/11/2011 17:11</td>\n",
       "      <td>no</td>\n",
       "      <td>440</td>\n",
       "      <td>0.43</td>\n",
       "      <td>4.15</td>\n",
       "      <td>-88.50</td>\n",
       "      <td>...</td>\n",
       "      <td>-0.74</td>\n",
       "      <td>0.49</td>\n",
       "      <td>-151</td>\n",
       "      <td>-331</td>\n",
       "      <td>-282</td>\n",
       "      <td>-109</td>\n",
       "      <td>-619</td>\n",
       "      <td>-32</td>\n",
       "      <td>8</td>\n",
       "      <td>B</td>\n",
       "    </tr>\n",
       "    <tr>\n",
       "      <th>8</th>\n",
       "      <td>9</td>\n",
       "      <td>carlitos</td>\n",
       "      <td>1323084240</td>\n",
       "      <td>916313</td>\n",
       "      <td>05/12/2011 11:24</td>\n",
       "      <td>no</td>\n",
       "      <td>323</td>\n",
       "      <td>0.93</td>\n",
       "      <td>6.72</td>\n",
       "      <td>-93.70</td>\n",
       "      <td>...</td>\n",
       "      <td>0.02</td>\n",
       "      <td>-0.02</td>\n",
       "      <td>195</td>\n",
       "      <td>204</td>\n",
       "      <td>-217</td>\n",
       "      <td>0</td>\n",
       "      <td>652</td>\n",
       "      <td>469</td>\n",
       "      <td>9</td>\n",
       "      <td>A</td>\n",
       "    </tr>\n",
       "    <tr>\n",
       "      <th>9</th>\n",
       "      <td>10</td>\n",
       "      <td>charles</td>\n",
       "      <td>1322837822</td>\n",
       "      <td>384285</td>\n",
       "      <td>02/12/2011 14:57</td>\n",
       "      <td>no</td>\n",
       "      <td>664</td>\n",
       "      <td>114.00</td>\n",
       "      <td>22.40</td>\n",
       "      <td>-13.10</td>\n",
       "      <td>...</td>\n",
       "      <td>0.13</td>\n",
       "      <td>-0.07</td>\n",
       "      <td>-212</td>\n",
       "      <td>98</td>\n",
       "      <td>-7</td>\n",
       "      <td>-403</td>\n",
       "      <td>723</td>\n",
       "      <td>512</td>\n",
       "      <td>10</td>\n",
       "      <td>A</td>\n",
       "    </tr>\n",
       "    <tr>\n",
       "      <th>10</th>\n",
       "      <td>11</td>\n",
       "      <td>carlitos</td>\n",
       "      <td>1323084277</td>\n",
       "      <td>36553</td>\n",
       "      <td>05/12/2011 11:24</td>\n",
       "      <td>no</td>\n",
       "      <td>859</td>\n",
       "      <td>0.92</td>\n",
       "      <td>5.94</td>\n",
       "      <td>-92.70</td>\n",
       "      <td>...</td>\n",
       "      <td>0.05</td>\n",
       "      <td>0.11</td>\n",
       "      <td>-3</td>\n",
       "      <td>405</td>\n",
       "      <td>-203</td>\n",
       "      <td>-248</td>\n",
       "      <td>720</td>\n",
       "      <td>438</td>\n",
       "      <td>11</td>\n",
       "      <td>B</td>\n",
       "    </tr>\n",
       "    <tr>\n",
       "      <th>11</th>\n",
       "      <td>12</td>\n",
       "      <td>jeremy</td>\n",
       "      <td>1322673101</td>\n",
       "      <td>442731</td>\n",
       "      <td>30/11/2011 17:11</td>\n",
       "      <td>no</td>\n",
       "      <td>461</td>\n",
       "      <td>1.01</td>\n",
       "      <td>4.96</td>\n",
       "      <td>-87.80</td>\n",
       "      <td>...</td>\n",
       "      <td>0.83</td>\n",
       "      <td>0.38</td>\n",
       "      <td>182</td>\n",
       "      <td>263</td>\n",
       "      <td>-148</td>\n",
       "      <td>32</td>\n",
       "      <td>648</td>\n",
       "      <td>702</td>\n",
       "      <td>12</td>\n",
       "      <td>C</td>\n",
       "    </tr>\n",
       "    <tr>\n",
       "      <th>12</th>\n",
       "      <td>13</td>\n",
       "      <td>eurico</td>\n",
       "      <td>1322489661</td>\n",
       "      <td>298656</td>\n",
       "      <td>28/11/2011 14:14</td>\n",
       "      <td>no</td>\n",
       "      <td>257</td>\n",
       "      <td>0.54</td>\n",
       "      <td>2.45</td>\n",
       "      <td>-88.60</td>\n",
       "      <td>...</td>\n",
       "      <td>-4.69</td>\n",
       "      <td>-1.26</td>\n",
       "      <td>149</td>\n",
       "      <td>46</td>\n",
       "      <td>167</td>\n",
       "      <td>456</td>\n",
       "      <td>-677</td>\n",
       "      <td>29</td>\n",
       "      <td>13</td>\n",
       "      <td>B</td>\n",
       "    </tr>\n",
       "    <tr>\n",
       "      <th>13</th>\n",
       "      <td>14</td>\n",
       "      <td>jeremy</td>\n",
       "      <td>1322673043</td>\n",
       "      <td>178652</td>\n",
       "      <td>30/11/2011 17:10</td>\n",
       "      <td>no</td>\n",
       "      <td>408</td>\n",
       "      <td>0.45</td>\n",
       "      <td>5.02</td>\n",
       "      <td>-87.90</td>\n",
       "      <td>...</td>\n",
       "      <td>0.00</td>\n",
       "      <td>0.03</td>\n",
       "      <td>232</td>\n",
       "      <td>106</td>\n",
       "      <td>-198</td>\n",
       "      <td>123</td>\n",
       "      <td>555</td>\n",
       "      <td>648</td>\n",
       "      <td>14</td>\n",
       "      <td>A</td>\n",
       "    </tr>\n",
       "    <tr>\n",
       "      <th>14</th>\n",
       "      <td>15</td>\n",
       "      <td>jeremy</td>\n",
       "      <td>1322673156</td>\n",
       "      <td>550750</td>\n",
       "      <td>30/11/2011 17:12</td>\n",
       "      <td>no</td>\n",
       "      <td>779</td>\n",
       "      <td>5.34</td>\n",
       "      <td>-3.09</td>\n",
       "      <td>-80.30</td>\n",
       "      <td>...</td>\n",
       "      <td>-5.97</td>\n",
       "      <td>-1.05</td>\n",
       "      <td>-18</td>\n",
       "      <td>43</td>\n",
       "      <td>-226</td>\n",
       "      <td>-540</td>\n",
       "      <td>-155</td>\n",
       "      <td>389</td>\n",
       "      <td>15</td>\n",
       "      <td>E</td>\n",
       "    </tr>\n",
       "    <tr>\n",
       "      <th>15</th>\n",
       "      <td>16</td>\n",
       "      <td>eurico</td>\n",
       "      <td>1322489713</td>\n",
       "      <td>706637</td>\n",
       "      <td>28/11/2011 14:15</td>\n",
       "      <td>no</td>\n",
       "      <td>302</td>\n",
       "      <td>1.65</td>\n",
       "      <td>3.47</td>\n",
       "      <td>-87.00</td>\n",
       "      <td>...</td>\n",
       "      <td>-3.45</td>\n",
       "      <td>-0.66</td>\n",
       "      <td>161</td>\n",
       "      <td>-61</td>\n",
       "      <td>171</td>\n",
       "      <td>532</td>\n",
       "      <td>-775</td>\n",
       "      <td>114</td>\n",
       "      <td>16</td>\n",
       "      <td>E</td>\n",
       "    </tr>\n",
       "    <tr>\n",
       "      <th>16</th>\n",
       "      <td>17</td>\n",
       "      <td>pedro</td>\n",
       "      <td>1323094971</td>\n",
       "      <td>920315</td>\n",
       "      <td>05/12/2011 14:22</td>\n",
       "      <td>no</td>\n",
       "      <td>48</td>\n",
       "      <td>129.00</td>\n",
       "      <td>27.80</td>\n",
       "      <td>1.84</td>\n",
       "      <td>...</td>\n",
       "      <td>-0.06</td>\n",
       "      <td>0.18</td>\n",
       "      <td>144</td>\n",
       "      <td>201</td>\n",
       "      <td>-154</td>\n",
       "      <td>-146</td>\n",
       "      <td>756</td>\n",
       "      <td>708</td>\n",
       "      <td>17</td>\n",
       "      <td>A</td>\n",
       "    </tr>\n",
       "    <tr>\n",
       "      <th>17</th>\n",
       "      <td>18</td>\n",
       "      <td>carlitos</td>\n",
       "      <td>1323084285</td>\n",
       "      <td>176314</td>\n",
       "      <td>05/12/2011 11:24</td>\n",
       "      <td>no</td>\n",
       "      <td>361</td>\n",
       "      <td>0.92</td>\n",
       "      <td>5.31</td>\n",
       "      <td>-93.10</td>\n",
       "      <td>...</td>\n",
       "      <td>4.14</td>\n",
       "      <td>0.95</td>\n",
       "      <td>-129</td>\n",
       "      <td>-29</td>\n",
       "      <td>-202</td>\n",
       "      <td>-500</td>\n",
       "      <td>-232</td>\n",
       "      <td>329</td>\n",
       "      <td>18</td>\n",
       "      <td>B</td>\n",
       "    </tr>\n",
       "    <tr>\n",
       "      <th>18</th>\n",
       "      <td>19</td>\n",
       "      <td>pedro</td>\n",
       "      <td>1323094999</td>\n",
       "      <td>828379</td>\n",
       "      <td>05/12/2011 14:23</td>\n",
       "      <td>no</td>\n",
       "      <td>72</td>\n",
       "      <td>123.00</td>\n",
       "      <td>26.70</td>\n",
       "      <td>-2.68</td>\n",
       "      <td>...</td>\n",
       "      <td>2.79</td>\n",
       "      <td>0.67</td>\n",
       "      <td>-148</td>\n",
       "      <td>21</td>\n",
       "      <td>-172</td>\n",
       "      <td>-614</td>\n",
       "      <td>-46</td>\n",
       "      <td>471</td>\n",
       "      <td>19</td>\n",
       "      <td>B</td>\n",
       "    </tr>\n",
       "    <tr>\n",
       "      <th>19</th>\n",
       "      <td>20</td>\n",
       "      <td>eurico</td>\n",
       "      <td>1322489658</td>\n",
       "      <td>106658</td>\n",
       "      <td>28/11/2011 14:14</td>\n",
       "      <td>no</td>\n",
       "      <td>255</td>\n",
       "      <td>1.40</td>\n",
       "      <td>3.20</td>\n",
       "      <td>-88.70</td>\n",
       "      <td>...</td>\n",
       "      <td>3.18</td>\n",
       "      <td>1.26</td>\n",
       "      <td>41</td>\n",
       "      <td>-100</td>\n",
       "      <td>179</td>\n",
       "      <td>70</td>\n",
       "      <td>-703</td>\n",
       "      <td>74</td>\n",
       "      <td>20</td>\n",
       "      <td>B</td>\n",
       "    </tr>\n",
       "  </tbody>\n",
       "</table>\n",
       "<p>20 rows × 161 columns</p>\n",
       "</div>"
      ],
      "text/plain": [
       "    Unnamed: 0 user_name  raw_timestamp_part_1  raw_timestamp_part_2  \\\n",
       "0            1     pedro            1323095002                868349   \n",
       "1            2    jeremy            1322673067                778725   \n",
       "2            3    jeremy            1322673075                342967   \n",
       "3            4    adelmo            1322832789                560311   \n",
       "4            5    eurico            1322489635                814776   \n",
       "5            6    jeremy            1322673149                510661   \n",
       "6            7    jeremy            1322673128                766645   \n",
       "7            8    jeremy            1322673076                 54671   \n",
       "8            9  carlitos            1323084240                916313   \n",
       "9           10   charles            1322837822                384285   \n",
       "10          11  carlitos            1323084277                 36553   \n",
       "11          12    jeremy            1322673101                442731   \n",
       "12          13    eurico            1322489661                298656   \n",
       "13          14    jeremy            1322673043                178652   \n",
       "14          15    jeremy            1322673156                550750   \n",
       "15          16    eurico            1322489713                706637   \n",
       "16          17     pedro            1323094971                920315   \n",
       "17          18  carlitos            1323084285                176314   \n",
       "18          19     pedro            1323094999                828379   \n",
       "19          20    eurico            1322489658                106658   \n",
       "\n",
       "      cvtd_timestamp new_window  num_window  roll_belt  pitch_belt  yaw_belt  \\\n",
       "0   05/12/2011 14:23         no          74     123.00       27.00     -4.75   \n",
       "1   30/11/2011 17:11         no         431       1.02        4.87    -88.90   \n",
       "2   30/11/2011 17:11         no         439       0.87        1.82    -88.50   \n",
       "3   02/12/2011 13:33         no         194     125.00      -41.60    162.00   \n",
       "4   28/11/2011 14:13         no         235       1.35        3.33    -88.60   \n",
       "5   30/11/2011 17:12         no         504      -5.92        1.59    -87.70   \n",
       "6   30/11/2011 17:12         no         485       1.20        4.44    -87.30   \n",
       "7   30/11/2011 17:11         no         440       0.43        4.15    -88.50   \n",
       "8   05/12/2011 11:24         no         323       0.93        6.72    -93.70   \n",
       "9   02/12/2011 14:57         no         664     114.00       22.40    -13.10   \n",
       "10  05/12/2011 11:24         no         859       0.92        5.94    -92.70   \n",
       "11  30/11/2011 17:11         no         461       1.01        4.96    -87.80   \n",
       "12  28/11/2011 14:14         no         257       0.54        2.45    -88.60   \n",
       "13  30/11/2011 17:10         no         408       0.45        5.02    -87.90   \n",
       "14  30/11/2011 17:12         no         779       5.34       -3.09    -80.30   \n",
       "15  28/11/2011 14:15         no         302       1.65        3.47    -87.00   \n",
       "16  05/12/2011 14:22         no          48     129.00       27.80      1.84   \n",
       "17  05/12/2011 11:24         no         361       0.92        5.31    -93.10   \n",
       "18  05/12/2011 14:23         no          72     123.00       26.70     -2.68   \n",
       "19  28/11/2011 14:14         no         255       1.40        3.20    -88.70   \n",
       "\n",
       "    ...  gyros_forearm_y  gyros_forearm_z  accel_forearm_x  accel_forearm_y  \\\n",
       "0   ...            -3.34            -0.59             -110              267   \n",
       "1   ...            -2.78            -0.18              212              297   \n",
       "2   ...            -0.79             0.28              154              271   \n",
       "3   ...             0.69             1.80              -92              406   \n",
       "4   ...             3.10             0.80              131              -93   \n",
       "5   ...             4.26             1.35              230              322   \n",
       "6   ...             1.80             0.75             -192              170   \n",
       "7   ...            -0.74             0.49             -151             -331   \n",
       "8   ...             0.02            -0.02              195              204   \n",
       "9   ...             0.13            -0.07             -212               98   \n",
       "10  ...             0.05             0.11               -3              405   \n",
       "11  ...             0.83             0.38              182              263   \n",
       "12  ...            -4.69            -1.26              149               46   \n",
       "13  ...             0.00             0.03              232              106   \n",
       "14  ...            -5.97            -1.05              -18               43   \n",
       "15  ...            -3.45            -0.66              161              -61   \n",
       "16  ...            -0.06             0.18              144              201   \n",
       "17  ...             4.14             0.95             -129              -29   \n",
       "18  ...             2.79             0.67             -148               21   \n",
       "19  ...             3.18             1.26               41             -100   \n",
       "\n",
       "    accel_forearm_z  magnet_forearm_x  magnet_forearm_y  magnet_forearm_z  \\\n",
       "0              -149              -714               419               617   \n",
       "1              -118              -237               791               873   \n",
       "2              -129               -51               698               783   \n",
       "3               -39              -233               783               521   \n",
       "4               172               375              -787                91   \n",
       "5              -144              -300               800               884   \n",
       "6              -175              -678               284               585   \n",
       "7              -282              -109              -619               -32   \n",
       "8              -217                 0               652               469   \n",
       "9                -7              -403               723               512   \n",
       "10             -203              -248               720               438   \n",
       "11             -148                32               648               702   \n",
       "12              167               456              -677                29   \n",
       "13             -198               123               555               648   \n",
       "14             -226              -540              -155               389   \n",
       "15              171               532              -775               114   \n",
       "16             -154              -146               756               708   \n",
       "17             -202              -500              -232               329   \n",
       "18             -172              -614               -46               471   \n",
       "19              179                70              -703                74   \n",
       "\n",
       "    problem_id  Predicted Output  \n",
       "0            1                 B  \n",
       "1            2                 A  \n",
       "2            3                 B  \n",
       "3            4                 A  \n",
       "4            5                 A  \n",
       "5            6                 E  \n",
       "6            7                 D  \n",
       "7            8                 B  \n",
       "8            9                 A  \n",
       "9           10                 A  \n",
       "10          11                 B  \n",
       "11          12                 C  \n",
       "12          13                 B  \n",
       "13          14                 A  \n",
       "14          15                 E  \n",
       "15          16                 E  \n",
       "16          17                 A  \n",
       "17          18                 B  \n",
       "18          19                 B  \n",
       "19          20                 B  \n",
       "\n",
       "[20 rows x 161 columns]"
      ]
     },
     "execution_count": 66,
     "metadata": {},
     "output_type": "execute_result"
    }
   ],
   "source": [
    "data=pd.read_csv('testing.csv')\n",
    "concate=pd.concat([data,p_df],axis=1)\n",
    "concate"
   ]
  },
  {
   "cell_type": "code",
   "execution_count": 67,
   "metadata": {},
   "outputs": [],
   "source": [
    "concate.to_csv('final results.csv',index=False)"
   ]
  },
  {
   "cell_type": "code",
   "execution_count": null,
   "metadata": {},
   "outputs": [],
   "source": []
  }
 ],
 "metadata": {
  "kernelspec": {
   "display_name": "Python 3",
   "language": "python",
   "name": "python3"
  },
  "language_info": {
   "codemirror_mode": {
    "name": "ipython",
    "version": 3
   },
   "file_extension": ".py",
   "mimetype": "text/x-python",
   "name": "python",
   "nbconvert_exporter": "python",
   "pygments_lexer": "ipython3",
   "version": "3.7.6"
  }
 },
 "nbformat": 4,
 "nbformat_minor": 4
}
